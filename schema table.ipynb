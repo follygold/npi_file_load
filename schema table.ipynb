{
 "cells": [
  {
   "cell_type": "code",
   "execution_count": 4,
   "id": "68c574ec",
   "metadata": {},
   "outputs": [
    {
     "name": "stdout",
     "output_type": "stream",
     "text": [
      "Requirement already satisfied: requests in /Users/afolakebaiyewu/opt/anaconda3/lib/python3.8/site-packages (2.25.1)\n",
      "Requirement already satisfied: idna<3,>=2.5 in /Users/afolakebaiyewu/opt/anaconda3/lib/python3.8/site-packages (from requests) (2.10)\n",
      "Requirement already satisfied: certifi>=2017.4.17 in /Users/afolakebaiyewu/opt/anaconda3/lib/python3.8/site-packages (from requests) (2020.12.5)\n",
      "Requirement already satisfied: chardet<5,>=3.0.2 in /Users/afolakebaiyewu/opt/anaconda3/lib/python3.8/site-packages (from requests) (4.0.0)\n",
      "Requirement already satisfied: urllib3<1.27,>=1.21.1 in /Users/afolakebaiyewu/opt/anaconda3/lib/python3.8/site-packages (from requests) (1.26.4)\n"
     ]
    },
    {
     "data": {
      "text/plain": [
       "'dats.csv'"
      ]
     },
     "execution_count": 4,
     "metadata": {},
     "output_type": "execute_result"
    }
   ],
   "source": [
    "get_ipython().system('pip install requests')\n",
    "import requests\n",
    "\n",
    "response=requests.get(\"https://api.coindesk.com/v1/bpi/currentprice.json\")\n",
    "response.headers.get(\"Content_Type\")                     \n",
    "json=response.json()\n",
    "df=pd.json_normalize(json)\n",
    "df.to_csv(\"dats.csv\")\n",
    "df\n",
    "a=list(df.columns[0:5])\n",
    "a\n",
    "testcsv=('dats.csv')\n",
    "testcsv\n"
   ]
  },
  {
   "cell_type": "code",
   "execution_count": 5,
   "id": "a9b6fa8f",
   "metadata": {},
   "outputs": [
    {
     "name": "stdout",
     "output_type": "stream",
     "text": [
      "Requirement already satisfied: google-cloud in /Users/afolakebaiyewu/opt/anaconda3/lib/python3.8/site-packages (0.34.0)\n",
      "zsh:1: no matches found: google-cloud-bigquery[pandas]\n",
      "Requirement already satisfied: google-cloud-storage in /Users/afolakebaiyewu/opt/anaconda3/lib/python3.8/site-packages (1.42.2)\n",
      "Requirement already satisfied: google-cloud-core<3.0dev,>=1.6.0 in /Users/afolakebaiyewu/opt/anaconda3/lib/python3.8/site-packages (from google-cloud-storage) (2.0.0)\n",
      "Requirement already satisfied: google-resumable-media<3.0dev,>=1.3.0 in /Users/afolakebaiyewu/opt/anaconda3/lib/python3.8/site-packages (from google-cloud-storage) (2.0.2)\n",
      "Requirement already satisfied: google-auth<3.0dev,>=1.25.0 in /Users/afolakebaiyewu/opt/anaconda3/lib/python3.8/site-packages (from google-cloud-storage) (2.1.0)\n",
      "Requirement already satisfied: google-api-core<3.0dev,>=1.29.0 in /Users/afolakebaiyewu/opt/anaconda3/lib/python3.8/site-packages (from google-cloud-storage) (2.0.1)\n",
      "Requirement already satisfied: requests<3.0.0dev,>=2.18.0 in /Users/afolakebaiyewu/opt/anaconda3/lib/python3.8/site-packages (from google-cloud-storage) (2.25.1)\n",
      "Requirement already satisfied: six in /Users/afolakebaiyewu/opt/anaconda3/lib/python3.8/site-packages (from google-cloud-storage) (1.15.0)\n",
      "Requirement already satisfied: protobuf in /Users/afolakebaiyewu/opt/anaconda3/lib/python3.8/site-packages (from google-cloud-storage) (3.18.0)\n",
      "Requirement already satisfied: setuptools>=40.3.0 in /Users/afolakebaiyewu/opt/anaconda3/lib/python3.8/site-packages (from google-api-core<3.0dev,>=1.29.0->google-cloud-storage) (52.0.0.post20210125)\n",
      "Requirement already satisfied: googleapis-common-protos<2.0dev,>=1.6.0 in /Users/afolakebaiyewu/opt/anaconda3/lib/python3.8/site-packages (from google-api-core<3.0dev,>=1.29.0->google-cloud-storage) (1.53.0)\n",
      "Requirement already satisfied: cachetools<5.0,>=2.0.0 in /Users/afolakebaiyewu/opt/anaconda3/lib/python3.8/site-packages (from google-auth<3.0dev,>=1.25.0->google-cloud-storage) (4.2.2)\n",
      "Requirement already satisfied: rsa<5,>=3.1.4 in /Users/afolakebaiyewu/opt/anaconda3/lib/python3.8/site-packages (from google-auth<3.0dev,>=1.25.0->google-cloud-storage) (4.7.2)\n",
      "Requirement already satisfied: pyasn1-modules>=0.2.1 in /Users/afolakebaiyewu/opt/anaconda3/lib/python3.8/site-packages (from google-auth<3.0dev,>=1.25.0->google-cloud-storage) (0.2.8)\n",
      "Requirement already satisfied: google-crc32c<=1.1.2,>=1.0 in /Users/afolakebaiyewu/opt/anaconda3/lib/python3.8/site-packages (from google-resumable-media<3.0dev,>=1.3.0->google-cloud-storage) (1.1.2)\n",
      "Requirement already satisfied: cffi>=1.0.0 in /Users/afolakebaiyewu/opt/anaconda3/lib/python3.8/site-packages (from google-crc32c<=1.1.2,>=1.0->google-resumable-media<3.0dev,>=1.3.0->google-cloud-storage) (1.14.5)\n",
      "Requirement already satisfied: pycparser in /Users/afolakebaiyewu/opt/anaconda3/lib/python3.8/site-packages (from cffi>=1.0.0->google-crc32c<=1.1.2,>=1.0->google-resumable-media<3.0dev,>=1.3.0->google-cloud-storage) (2.20)\n",
      "Requirement already satisfied: pyasn1<0.5.0,>=0.4.6 in /Users/afolakebaiyewu/opt/anaconda3/lib/python3.8/site-packages (from pyasn1-modules>=0.2.1->google-auth<3.0dev,>=1.25.0->google-cloud-storage) (0.4.8)\n",
      "Requirement already satisfied: certifi>=2017.4.17 in /Users/afolakebaiyewu/opt/anaconda3/lib/python3.8/site-packages (from requests<3.0.0dev,>=2.18.0->google-cloud-storage) (2020.12.5)\n",
      "Requirement already satisfied: urllib3<1.27,>=1.21.1 in /Users/afolakebaiyewu/opt/anaconda3/lib/python3.8/site-packages (from requests<3.0.0dev,>=2.18.0->google-cloud-storage) (1.26.4)\n",
      "Requirement already satisfied: idna<3,>=2.5 in /Users/afolakebaiyewu/opt/anaconda3/lib/python3.8/site-packages (from requests<3.0.0dev,>=2.18.0->google-cloud-storage) (2.10)\n",
      "Requirement already satisfied: chardet<5,>=3.0.2 in /Users/afolakebaiyewu/opt/anaconda3/lib/python3.8/site-packages (from requests<3.0.0dev,>=2.18.0->google-cloud-storage) (4.0.0)\n",
      "Requirement already satisfied: google-cloud-bigquery in /Users/afolakebaiyewu/opt/anaconda3/lib/python3.8/site-packages (2.26.0)\n",
      "Requirement already satisfied: grpcio<2.0dev,>=1.38.1 in /Users/afolakebaiyewu/opt/anaconda3/lib/python3.8/site-packages (from google-cloud-bigquery) (1.40.0)\n",
      "Requirement already satisfied: proto-plus>=1.10.0 in /Users/afolakebaiyewu/opt/anaconda3/lib/python3.8/site-packages (from google-cloud-bigquery) (1.19.0)\n",
      "Requirement already satisfied: packaging>=14.3 in /Users/afolakebaiyewu/opt/anaconda3/lib/python3.8/site-packages (from google-cloud-bigquery) (20.9)\n",
      "Requirement already satisfied: google-resumable-media<3.0dev,>=0.6.0 in /Users/afolakebaiyewu/opt/anaconda3/lib/python3.8/site-packages (from google-cloud-bigquery) (2.0.2)\n",
      "Requirement already satisfied: requests<3.0.0dev,>=2.18.0 in /Users/afolakebaiyewu/opt/anaconda3/lib/python3.8/site-packages (from google-cloud-bigquery) (2.25.1)\n",
      "Requirement already satisfied: google-api-core[grpc]<3.0.0dev,>=1.29.0 in /Users/afolakebaiyewu/opt/anaconda3/lib/python3.8/site-packages (from google-cloud-bigquery) (2.0.1)\n",
      "Requirement already satisfied: google-cloud-core<3.0.0dev,>=1.4.1 in /Users/afolakebaiyewu/opt/anaconda3/lib/python3.8/site-packages (from google-cloud-bigquery) (2.0.0)\n",
      "Requirement already satisfied: protobuf>=3.12.0 in /Users/afolakebaiyewu/opt/anaconda3/lib/python3.8/site-packages (from google-cloud-bigquery) (3.18.0)\n",
      "Requirement already satisfied: setuptools>=40.3.0 in /Users/afolakebaiyewu/opt/anaconda3/lib/python3.8/site-packages (from google-api-core[grpc]<3.0.0dev,>=1.29.0->google-cloud-bigquery) (52.0.0.post20210125)\n",
      "Requirement already satisfied: google-auth<3.0dev,>=1.25.0 in /Users/afolakebaiyewu/opt/anaconda3/lib/python3.8/site-packages (from google-api-core[grpc]<3.0.0dev,>=1.29.0->google-cloud-bigquery) (2.1.0)\n",
      "Requirement already satisfied: googleapis-common-protos<2.0dev,>=1.6.0 in /Users/afolakebaiyewu/opt/anaconda3/lib/python3.8/site-packages (from google-api-core[grpc]<3.0.0dev,>=1.29.0->google-cloud-bigquery) (1.53.0)\n",
      "Requirement already satisfied: rsa<5,>=3.1.4 in /Users/afolakebaiyewu/opt/anaconda3/lib/python3.8/site-packages (from google-auth<3.0dev,>=1.25.0->google-api-core[grpc]<3.0.0dev,>=1.29.0->google-cloud-bigquery) (4.7.2)\n",
      "Requirement already satisfied: cachetools<5.0,>=2.0.0 in /Users/afolakebaiyewu/opt/anaconda3/lib/python3.8/site-packages (from google-auth<3.0dev,>=1.25.0->google-api-core[grpc]<3.0.0dev,>=1.29.0->google-cloud-bigquery) (4.2.2)\n",
      "Requirement already satisfied: pyasn1-modules>=0.2.1 in /Users/afolakebaiyewu/opt/anaconda3/lib/python3.8/site-packages (from google-auth<3.0dev,>=1.25.0->google-api-core[grpc]<3.0.0dev,>=1.29.0->google-cloud-bigquery) (0.2.8)\n",
      "Requirement already satisfied: google-crc32c<=1.1.2,>=1.0 in /Users/afolakebaiyewu/opt/anaconda3/lib/python3.8/site-packages (from google-resumable-media<3.0dev,>=0.6.0->google-cloud-bigquery) (1.1.2)\n",
      "Requirement already satisfied: cffi>=1.0.0 in /Users/afolakebaiyewu/opt/anaconda3/lib/python3.8/site-packages (from google-crc32c<=1.1.2,>=1.0->google-resumable-media<3.0dev,>=0.6.0->google-cloud-bigquery) (1.14.5)\n",
      "Requirement already satisfied: pycparser in /Users/afolakebaiyewu/opt/anaconda3/lib/python3.8/site-packages (from cffi>=1.0.0->google-crc32c<=1.1.2,>=1.0->google-resumable-media<3.0dev,>=0.6.0->google-cloud-bigquery) (2.20)\n",
      "Requirement already satisfied: six>=1.5.2 in /Users/afolakebaiyewu/opt/anaconda3/lib/python3.8/site-packages (from grpcio<2.0dev,>=1.38.1->google-cloud-bigquery) (1.15.0)\n",
      "Requirement already satisfied: pyparsing>=2.0.2 in /Users/afolakebaiyewu/opt/anaconda3/lib/python3.8/site-packages (from packaging>=14.3->google-cloud-bigquery) (2.4.7)\n",
      "Requirement already satisfied: pyasn1<0.5.0,>=0.4.6 in /Users/afolakebaiyewu/opt/anaconda3/lib/python3.8/site-packages (from pyasn1-modules>=0.2.1->google-auth<3.0dev,>=1.25.0->google-api-core[grpc]<3.0.0dev,>=1.29.0->google-cloud-bigquery) (0.4.8)\n",
      "Requirement already satisfied: idna<3,>=2.5 in /Users/afolakebaiyewu/opt/anaconda3/lib/python3.8/site-packages (from requests<3.0.0dev,>=2.18.0->google-cloud-bigquery) (2.10)\n",
      "Requirement already satisfied: chardet<5,>=3.0.2 in /Users/afolakebaiyewu/opt/anaconda3/lib/python3.8/site-packages (from requests<3.0.0dev,>=2.18.0->google-cloud-bigquery) (4.0.0)\n",
      "Requirement already satisfied: certifi>=2017.4.17 in /Users/afolakebaiyewu/opt/anaconda3/lib/python3.8/site-packages (from requests<3.0.0dev,>=2.18.0->google-cloud-bigquery) (2020.12.5)\n",
      "Requirement already satisfied: urllib3<1.27,>=1.21.1 in /Users/afolakebaiyewu/opt/anaconda3/lib/python3.8/site-packages (from requests<3.0.0dev,>=2.18.0->google-cloud-bigquery) (1.26.4)\n"
     ]
    },
    {
     "name": "stdout",
     "output_type": "stream",
     "text": [
      "Requirement already satisfied: pyarrow in /Users/afolakebaiyewu/opt/anaconda3/lib/python3.8/site-packages (5.0.0)\r\n",
      "Requirement already satisfied: numpy>=1.16.6 in /Users/afolakebaiyewu/opt/anaconda3/lib/python3.8/site-packages (from pyarrow) (1.20.1)\r\n"
     ]
    }
   ],
   "source": [
    "!pip install google-cloud\n",
    "!pip install google-cloud-bigquery[pandas]\n",
    "!pip install google-cloud-storage\n",
    "!pip install google-cloud-bigquery\n",
    "!pip install pyarrow"
   ]
  },
  {
   "cell_type": "code",
   "execution_count": 8,
   "id": "99b10c7c",
   "metadata": {},
   "outputs": [
    {
     "data": {
      "text/plain": [
       "['disclaimer',\n",
       " 'chartName',\n",
       " 'time.updated',\n",
       " 'time.updatedISO',\n",
       " 'time.updateduk',\n",
       " 'bpi.USD.code',\n",
       " 'bpi.USD.symbol',\n",
       " 'bpi.USD.rate',\n",
       " 'bpi.USD.description',\n",
       " 'bpi.USD.rate_float',\n",
       " 'bpi.GBP.code',\n",
       " 'bpi.GBP.symbol',\n",
       " 'bpi.GBP.rate',\n",
       " 'bpi.GBP.description',\n",
       " 'bpi.GBP.rate_float',\n",
       " 'bpi.EUR.code',\n",
       " 'bpi.EUR.symbol',\n",
       " 'bpi.EUR.rate',\n",
       " 'bpi.EUR.description',\n",
       " 'bpi.EUR.rate_float']"
      ]
     },
     "execution_count": 8,
     "metadata": {},
     "output_type": "execute_result"
    }
   ],
   "source": [
    "from google.cloud import bigquery\n",
    "#Set environment variables for your notebook\n",
    "import os \n",
    "os.environ['GOOGLE_APPLICATION_CREDENTIALS'] = '/Users/afolakebaiyewu/Downloads/service_key.json'\n",
    "#Imports google cloud client library and initiates BQ service\n",
    "\n",
    "cols=df.columns.tolist()\n",
    "cols[1]\n",
    "cols\n"
   ]
  },
  {
   "cell_type": "code",
   "execution_count": 43,
   "id": "5a92ad88",
   "metadata": {},
   "outputs": [
    {
     "name": "stdout",
     "output_type": "stream",
     "text": [
      "table dats created.\n"
     ]
    }
   ],
   "source": [
    "#creating a schema in big query\n",
    "from google.cloud import bigquery\n",
    "\n",
    "bigquery_client = bigquery.Client(project=\"helical-tendril-326615\")\n",
    "dataset_ref = bigquery_client.dataset('gender_names')\n",
    "cols=df.columns.tolist()\n",
    "\n",
    "# Prepares a reference to the table\n",
    "table_ref = dataset_ref.table('dats')\n",
    "schema =  [\n",
    "            bigquery.SchemaField(cols[0], 'STRING'),#automating the column names by list\n",
    "            bigquery.SchemaField(cols[1], 'STRING')\n",
    "        ]\n",
    "table = bigquery.Table(table_ref, schema=schema)\n",
    "table = bigquery_client.create_table(table)\n",
    "print('table {} created.'.format(table.table_id))"
   ]
  },
  {
   "cell_type": "code",
   "execution_count": 44,
   "id": "9fdc6351",
   "metadata": {},
   "outputs": [
    {
     "name": "stdout",
     "output_type": "stream",
     "text": [
      "Loaded 1 rows.\n"
     ]
    }
   ],
   "source": [
    "job_config = bigquery.LoadJobConfig(\n",
    "    write_disposition=bigquery.WriteDisposition.WRITE_TRUNCATE,\n",
    "    source_format=bigquery.SourceFormat.CSV,\n",
    "    skip_leading_rows=1,schema =  [\n",
    "            bigquery.SchemaField(cols[0], 'STRING'),#automating the column names by list\n",
    "            bigquery.SchemaField(cols[1], 'STRING')\n",
    "        ],\n",
    "    autodetect=True\n",
    "    \n",
    ")\n",
    "\n",
    "uri = \"gs://test_text_buckets/dats.csv\"\n",
    "load_job = bigquery_client.load_table_from_uri(\n",
    "    uri,table_ref, job_config=job_config\n",
    ")  # Make an API request.\n",
    "\n",
    "load_job.result()  # Waits for the job to complete.\n",
    "\n",
    "destination_table = bigquery_client.get_table(table)\n",
    "print(\"Loaded {} rows.\".format(destination_table.num_rows))"
   ]
  },
  {
   "cell_type": "code",
   "execution_count": null,
   "id": "16147a28",
   "metadata": {},
   "outputs": [],
   "source": []
  },
  {
   "cell_type": "code",
   "execution_count": null,
   "id": "37424b35",
   "metadata": {},
   "outputs": [],
   "source": []
  }
 ],
 "metadata": {
  "kernelspec": {
   "display_name": "Python 3 (ipykernel)",
   "language": "python",
   "name": "python3"
  },
  "language_info": {
   "codemirror_mode": {
    "name": "ipython",
    "version": 3
   },
   "file_extension": ".py",
   "mimetype": "text/x-python",
   "name": "python",
   "nbconvert_exporter": "python",
   "pygments_lexer": "ipython3",
   "version": "3.8.8"
  }
 },
 "nbformat": 4,
 "nbformat_minor": 5
}
