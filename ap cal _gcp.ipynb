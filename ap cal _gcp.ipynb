{
 "cells": [
  {
   "cell_type": "code",
   "execution_count": 1,
   "id": "b78b7b06",
   "metadata": {},
   "outputs": [],
   "source": [
    "import requests\n",
    "import pandas as pd\n",
    "import json as js\n",
    "response=requests.get(\"https://api.coindesk.com/v1/bpi/currentprice.json\")\n",
    "response.headers.get(\"Content_Type\")\n",
    "response.json()\n",
    "\n",
    "json=response.json()\n",
    "df=pd.json_normalize(json)\n",
    "df.to_csv(\"dats.csv\")\n"
   ]
  },
  {
   "cell_type": "code",
   "execution_count": 2,
   "id": "31b74ecd",
   "metadata": {},
   "outputs": [],
   "source": [
    "from google.cloud import storage\n",
    "\n",
    "# Setting credentials using the downloaded JSON file\n",
    "client = storage.Client.from_service_account_json(json_credentials_path='service_key.json')\n",
    "# Creating bucket object\n",
    "\n",
    "bucket = client.get_bucket('test_text_buckets')\n",
    "# Name of the object to be stored in the bucket\n",
    "\n",
    "object_name_in_gcs_bucket = bucket.blob('dats.csv')\n",
    "# Name of the object in local file system\n",
    "\n",
    "object_name_in_gcs_bucket.upload_from_filename('dats.csv')"
   ]
  },
  {
   "cell_type": "code",
   "execution_count": null,
   "id": "fdb18ee8",
   "metadata": {},
   "outputs": [],
   "source": []
  }
 ],
 "metadata": {
  "kernelspec": {
   "display_name": "Python 3 (ipykernel)",
   "language": "python",
   "name": "python3"
  },
  "language_info": {
   "codemirror_mode": {
    "name": "ipython",
    "version": 3
   },
   "file_extension": ".py",
   "mimetype": "text/x-python",
   "name": "python",
   "nbconvert_exporter": "python",
   "pygments_lexer": "ipython3",
   "version": "3.8.8"
  }
 },
 "nbformat": 4,
 "nbformat_minor": 5
}
